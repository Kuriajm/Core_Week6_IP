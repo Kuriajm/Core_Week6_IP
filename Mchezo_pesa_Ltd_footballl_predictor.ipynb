{
  "nbformat": 4,
  "nbformat_minor": 0,
  "metadata": {
    "colab": {
      "name": "Mchezo pesa Ltd footballl predictor.ipynb",
      "provenance": [],
      "authorship_tag": "ABX9TyPtQ3cH3zkN8IbADUxyWkxy",
      "include_colab_link": true
    },
    "kernelspec": {
      "name": "python3",
      "display_name": "Python 3"
    },
    "language_info": {
      "name": "python"
    }
  },
  "cells": [
    {
      "cell_type": "markdown",
      "metadata": {
        "id": "view-in-github",
        "colab_type": "text"
      },
      "source": [
        "<a href=\"https://colab.research.google.com/github/Kuriajm/Core_Week6_IP/blob/main/Mchezo_pesa_Ltd_footballl_predictor.ipynb\" target=\"_parent\"><img src=\"https://colab.research.google.com/assets/colab-badge.svg\" alt=\"Open In Colab\"/></a>"
      ]
    },
    {
      "cell_type": "markdown",
      "metadata": {
        "id": "wwmJ2lX1t73M"
      },
      "source": [
        "##Mchezo pesa Ltd footballl predictor"
      ]
    },
    {
      "cell_type": "markdown",
      "metadata": {
        "id": "cqV0Psm8v5kp"
      },
      "source": [
        "**1.0 Understanding the question**"
      ]
    },
    {
      "cell_type": "markdown",
      "metadata": {
        "id": "1cGmdSXSwBjf"
      },
      "source": [
        "**Defining the question**\n",
        "\n",
        "A prediction result of a game between team 1 and team 2, based on who's home and who's away, and on whether or not the game is friendly (include rank in your training).\n",
        "\n",
        "**Metric of success**\n",
        "\n",
        "The model is able to predict any given game depending on its input with over 80% accuracy\n",
        "\n",
        "**The context**\n",
        "\n",
        "The model will help mchezo pesa give appropriate odds for its betting clients\n",
        "\n"
      ]
    },
    {
      "cell_type": "markdown",
      "metadata": {
        "id": "bfQeO3I_uPfY"
      },
      "source": [
        "**Experimental design**\n",
        "\n",
        "1. Define the question, the metric for success, the context, experimental  design taken and the appropriateness of the available data to answer the given question\n",
        "3. Expected flow for the assessment:\n",
        "4. Perform your EDA\n",
        "5. Perform any necessary feature engineering \n",
        "6. Check of multicollinearity\n",
        "7. Start building the model\n",
        "8. Cross-validate the model\n",
        "9. Compute RMSE\n",
        "10. Create residual plots for your models, and assess their heteroscedasticity using Bartlett’s test\n",
        "11. Perform appropriate regressions on the data including your justification\n",
        "12. Challenge your solution by providing insights on how you can make improvements."
      ]
    },
    {
      "cell_type": "markdown",
      "metadata": {
        "id": "z5d51_0SiY7-"
      },
      "source": [
        "**2.0 Reading and checking the data**"
      ]
    },
    {
      "cell_type": "code",
      "metadata": {
        "id": "BrMcXRYmiltO"
      },
      "source": [
        "#Importing the neccessary libraries\n",
        "import numpy as np\n",
        "import pandas as pd\n",
        "import matplotlib.pyplot as plt\n",
        "import seaborn as sns\n",
        "import scipy.stats as stats\n",
        "import warnings\n",
        "warnings.filterwarnings('ignore')"
      ],
      "execution_count": 1,
      "outputs": []
    },
    {
      "cell_type": "markdown",
      "metadata": {
        "id": "L4Ghy3fxjG_h"
      },
      "source": [
        "Fifa Ranking Data"
      ]
    },
    {
      "cell_type": "code",
      "metadata": {
        "id": "1OS67dmKi7UN"
      },
      "source": [
        "#Loading our ranking dataset and viewing \n",
        "\n",
        "dfrank = pd.read_csv('fifa_ranking.csv', parse_dates=['rank_date'])\n"
      ],
      "execution_count": 2,
      "outputs": []
    },
    {
      "cell_type": "code",
      "metadata": {
        "id": "YjSVNwgptHxY",
        "colab": {
          "base_uri": "https://localhost:8080/"
        },
        "outputId": "5ee2505a-a459-4dc2-fee1-caea6b131c10"
      },
      "source": [
        "# Determining the no. of records in our dataset\n",
        "#\n",
        "dfrank.shape"
      ],
      "execution_count": 3,
      "outputs": [
        {
          "output_type": "execute_result",
          "data": {
            "text/plain": [
              "(57793, 16)"
            ]
          },
          "metadata": {},
          "execution_count": 3
        }
      ]
    },
    {
      "cell_type": "code",
      "metadata": {
        "id": "xHhTw5eKWr0n",
        "colab": {
          "base_uri": "https://localhost:8080/",
          "height": 312
        },
        "outputId": "1f3d0f63-68c0-42f5-82f4-8476b772a3a7"
      },
      "source": [
        "# Previewing the top of our dataset\n",
        "#\n",
        "dfrank.head()"
      ],
      "execution_count": 4,
      "outputs": [
        {
          "output_type": "execute_result",
          "data": {
            "text/html": [
              "<div>\n",
              "<style scoped>\n",
              "    .dataframe tbody tr th:only-of-type {\n",
              "        vertical-align: middle;\n",
              "    }\n",
              "\n",
              "    .dataframe tbody tr th {\n",
              "        vertical-align: top;\n",
              "    }\n",
              "\n",
              "    .dataframe thead th {\n",
              "        text-align: right;\n",
              "    }\n",
              "</style>\n",
              "<table border=\"1\" class=\"dataframe\">\n",
              "  <thead>\n",
              "    <tr style=\"text-align: right;\">\n",
              "      <th></th>\n",
              "      <th>rank</th>\n",
              "      <th>country_full</th>\n",
              "      <th>country_abrv</th>\n",
              "      <th>total_points</th>\n",
              "      <th>previous_points</th>\n",
              "      <th>rank_change</th>\n",
              "      <th>cur_year_avg</th>\n",
              "      <th>cur_year_avg_weighted</th>\n",
              "      <th>last_year_avg</th>\n",
              "      <th>last_year_avg_weighted</th>\n",
              "      <th>two_year_ago_avg</th>\n",
              "      <th>two_year_ago_weighted</th>\n",
              "      <th>three_year_ago_avg</th>\n",
              "      <th>three_year_ago_weighted</th>\n",
              "      <th>confederation</th>\n",
              "      <th>rank_date</th>\n",
              "    </tr>\n",
              "  </thead>\n",
              "  <tbody>\n",
              "    <tr>\n",
              "      <th>0</th>\n",
              "      <td>1</td>\n",
              "      <td>Germany</td>\n",
              "      <td>GER</td>\n",
              "      <td>0.0</td>\n",
              "      <td>57</td>\n",
              "      <td>0</td>\n",
              "      <td>0.0</td>\n",
              "      <td>0.0</td>\n",
              "      <td>0.0</td>\n",
              "      <td>0.0</td>\n",
              "      <td>0.0</td>\n",
              "      <td>0.0</td>\n",
              "      <td>0.0</td>\n",
              "      <td>0.0</td>\n",
              "      <td>UEFA</td>\n",
              "      <td>1993-08-08</td>\n",
              "    </tr>\n",
              "    <tr>\n",
              "      <th>1</th>\n",
              "      <td>2</td>\n",
              "      <td>Italy</td>\n",
              "      <td>ITA</td>\n",
              "      <td>0.0</td>\n",
              "      <td>57</td>\n",
              "      <td>0</td>\n",
              "      <td>0.0</td>\n",
              "      <td>0.0</td>\n",
              "      <td>0.0</td>\n",
              "      <td>0.0</td>\n",
              "      <td>0.0</td>\n",
              "      <td>0.0</td>\n",
              "      <td>0.0</td>\n",
              "      <td>0.0</td>\n",
              "      <td>UEFA</td>\n",
              "      <td>1993-08-08</td>\n",
              "    </tr>\n",
              "    <tr>\n",
              "      <th>2</th>\n",
              "      <td>3</td>\n",
              "      <td>Switzerland</td>\n",
              "      <td>SUI</td>\n",
              "      <td>0.0</td>\n",
              "      <td>50</td>\n",
              "      <td>9</td>\n",
              "      <td>0.0</td>\n",
              "      <td>0.0</td>\n",
              "      <td>0.0</td>\n",
              "      <td>0.0</td>\n",
              "      <td>0.0</td>\n",
              "      <td>0.0</td>\n",
              "      <td>0.0</td>\n",
              "      <td>0.0</td>\n",
              "      <td>UEFA</td>\n",
              "      <td>1993-08-08</td>\n",
              "    </tr>\n",
              "    <tr>\n",
              "      <th>3</th>\n",
              "      <td>4</td>\n",
              "      <td>Sweden</td>\n",
              "      <td>SWE</td>\n",
              "      <td>0.0</td>\n",
              "      <td>55</td>\n",
              "      <td>0</td>\n",
              "      <td>0.0</td>\n",
              "      <td>0.0</td>\n",
              "      <td>0.0</td>\n",
              "      <td>0.0</td>\n",
              "      <td>0.0</td>\n",
              "      <td>0.0</td>\n",
              "      <td>0.0</td>\n",
              "      <td>0.0</td>\n",
              "      <td>UEFA</td>\n",
              "      <td>1993-08-08</td>\n",
              "    </tr>\n",
              "    <tr>\n",
              "      <th>4</th>\n",
              "      <td>5</td>\n",
              "      <td>Argentina</td>\n",
              "      <td>ARG</td>\n",
              "      <td>0.0</td>\n",
              "      <td>51</td>\n",
              "      <td>5</td>\n",
              "      <td>0.0</td>\n",
              "      <td>0.0</td>\n",
              "      <td>0.0</td>\n",
              "      <td>0.0</td>\n",
              "      <td>0.0</td>\n",
              "      <td>0.0</td>\n",
              "      <td>0.0</td>\n",
              "      <td>0.0</td>\n",
              "      <td>CONMEBOL</td>\n",
              "      <td>1993-08-08</td>\n",
              "    </tr>\n",
              "  </tbody>\n",
              "</table>\n",
              "</div>"
            ],
            "text/plain": [
              "   rank country_full  ... confederation  rank_date\n",
              "0     1      Germany  ...          UEFA 1993-08-08\n",
              "1     2        Italy  ...          UEFA 1993-08-08\n",
              "2     3  Switzerland  ...          UEFA 1993-08-08\n",
              "3     4       Sweden  ...          UEFA 1993-08-08\n",
              "4     5    Argentina  ...      CONMEBOL 1993-08-08\n",
              "\n",
              "[5 rows x 16 columns]"
            ]
          },
          "metadata": {},
          "execution_count": 4
        }
      ]
    },
    {
      "cell_type": "code",
      "metadata": {
        "id": "e9AzGcZFrIIr",
        "colab": {
          "base_uri": "https://localhost:8080/",
          "height": 312
        },
        "outputId": "93f5ec88-ed7b-492f-9e5a-766b22bbe6ac"
      },
      "source": [
        "# Previewing the bottom of our dataset\n",
        "# \n",
        "dfrank.tail()"
      ],
      "execution_count": 5,
      "outputs": [
        {
          "output_type": "execute_result",
          "data": {
            "text/html": [
              "<div>\n",
              "<style scoped>\n",
              "    .dataframe tbody tr th:only-of-type {\n",
              "        vertical-align: middle;\n",
              "    }\n",
              "\n",
              "    .dataframe tbody tr th {\n",
              "        vertical-align: top;\n",
              "    }\n",
              "\n",
              "    .dataframe thead th {\n",
              "        text-align: right;\n",
              "    }\n",
              "</style>\n",
              "<table border=\"1\" class=\"dataframe\">\n",
              "  <thead>\n",
              "    <tr style=\"text-align: right;\">\n",
              "      <th></th>\n",
              "      <th>rank</th>\n",
              "      <th>country_full</th>\n",
              "      <th>country_abrv</th>\n",
              "      <th>total_points</th>\n",
              "      <th>previous_points</th>\n",
              "      <th>rank_change</th>\n",
              "      <th>cur_year_avg</th>\n",
              "      <th>cur_year_avg_weighted</th>\n",
              "      <th>last_year_avg</th>\n",
              "      <th>last_year_avg_weighted</th>\n",
              "      <th>two_year_ago_avg</th>\n",
              "      <th>two_year_ago_weighted</th>\n",
              "      <th>three_year_ago_avg</th>\n",
              "      <th>three_year_ago_weighted</th>\n",
              "      <th>confederation</th>\n",
              "      <th>rank_date</th>\n",
              "    </tr>\n",
              "  </thead>\n",
              "  <tbody>\n",
              "    <tr>\n",
              "      <th>57788</th>\n",
              "      <td>206</td>\n",
              "      <td>Anguilla</td>\n",
              "      <td>AIA</td>\n",
              "      <td>0.0</td>\n",
              "      <td>0</td>\n",
              "      <td>1</td>\n",
              "      <td>0.0</td>\n",
              "      <td>0.0</td>\n",
              "      <td>0.0</td>\n",
              "      <td>0.0</td>\n",
              "      <td>0.0</td>\n",
              "      <td>0.0</td>\n",
              "      <td>0.0</td>\n",
              "      <td>0.0</td>\n",
              "      <td>CONCACAF</td>\n",
              "      <td>2018-06-07</td>\n",
              "    </tr>\n",
              "    <tr>\n",
              "      <th>57789</th>\n",
              "      <td>206</td>\n",
              "      <td>Bahamas</td>\n",
              "      <td>BAH</td>\n",
              "      <td>0.0</td>\n",
              "      <td>0</td>\n",
              "      <td>1</td>\n",
              "      <td>0.0</td>\n",
              "      <td>0.0</td>\n",
              "      <td>0.0</td>\n",
              "      <td>0.0</td>\n",
              "      <td>0.0</td>\n",
              "      <td>0.0</td>\n",
              "      <td>0.0</td>\n",
              "      <td>0.0</td>\n",
              "      <td>CONCACAF</td>\n",
              "      <td>2018-06-07</td>\n",
              "    </tr>\n",
              "    <tr>\n",
              "      <th>57790</th>\n",
              "      <td>206</td>\n",
              "      <td>Eritrea</td>\n",
              "      <td>ERI</td>\n",
              "      <td>0.0</td>\n",
              "      <td>0</td>\n",
              "      <td>1</td>\n",
              "      <td>0.0</td>\n",
              "      <td>0.0</td>\n",
              "      <td>0.0</td>\n",
              "      <td>0.0</td>\n",
              "      <td>0.0</td>\n",
              "      <td>0.0</td>\n",
              "      <td>0.0</td>\n",
              "      <td>0.0</td>\n",
              "      <td>CAF</td>\n",
              "      <td>2018-06-07</td>\n",
              "    </tr>\n",
              "    <tr>\n",
              "      <th>57791</th>\n",
              "      <td>206</td>\n",
              "      <td>Somalia</td>\n",
              "      <td>SOM</td>\n",
              "      <td>0.0</td>\n",
              "      <td>0</td>\n",
              "      <td>1</td>\n",
              "      <td>0.0</td>\n",
              "      <td>0.0</td>\n",
              "      <td>0.0</td>\n",
              "      <td>0.0</td>\n",
              "      <td>0.0</td>\n",
              "      <td>0.0</td>\n",
              "      <td>0.0</td>\n",
              "      <td>0.0</td>\n",
              "      <td>CAF</td>\n",
              "      <td>2018-06-07</td>\n",
              "    </tr>\n",
              "    <tr>\n",
              "      <th>57792</th>\n",
              "      <td>206</td>\n",
              "      <td>Tonga</td>\n",
              "      <td>TGA</td>\n",
              "      <td>0.0</td>\n",
              "      <td>0</td>\n",
              "      <td>1</td>\n",
              "      <td>0.0</td>\n",
              "      <td>0.0</td>\n",
              "      <td>0.0</td>\n",
              "      <td>0.0</td>\n",
              "      <td>0.0</td>\n",
              "      <td>0.0</td>\n",
              "      <td>0.0</td>\n",
              "      <td>0.0</td>\n",
              "      <td>OFC</td>\n",
              "      <td>2018-06-07</td>\n",
              "    </tr>\n",
              "  </tbody>\n",
              "</table>\n",
              "</div>"
            ],
            "text/plain": [
              "       rank country_full  ... confederation  rank_date\n",
              "57788   206     Anguilla  ...      CONCACAF 2018-06-07\n",
              "57789   206      Bahamas  ...      CONCACAF 2018-06-07\n",
              "57790   206      Eritrea  ...           CAF 2018-06-07\n",
              "57791   206      Somalia  ...           CAF 2018-06-07\n",
              "57792   206        Tonga  ...           OFC 2018-06-07\n",
              "\n",
              "[5 rows x 16 columns]"
            ]
          },
          "metadata": {},
          "execution_count": 5
        }
      ]
    },
    {
      "cell_type": "code",
      "metadata": {
        "id": "n8-dW4sQWzbc",
        "colab": {
          "base_uri": "https://localhost:8080/"
        },
        "outputId": "a7e72488-bb6d-41e3-c7c6-f8869c131e18"
      },
      "source": [
        "# Checking whether each column has an appropriate datatype\n",
        "#\n",
        "dfrank.dtypes"
      ],
      "execution_count": 6,
      "outputs": [
        {
          "output_type": "execute_result",
          "data": {
            "text/plain": [
              "rank                                int64\n",
              "country_full                       object\n",
              "country_abrv                       object\n",
              "total_points                      float64\n",
              "previous_points                     int64\n",
              "rank_change                         int64\n",
              "cur_year_avg                      float64\n",
              "cur_year_avg_weighted             float64\n",
              "last_year_avg                     float64\n",
              "last_year_avg_weighted            float64\n",
              "two_year_ago_avg                  float64\n",
              "two_year_ago_weighted             float64\n",
              "three_year_ago_avg                float64\n",
              "three_year_ago_weighted           float64\n",
              "confederation                      object\n",
              "rank_date                  datetime64[ns]\n",
              "dtype: object"
            ]
          },
          "metadata": {},
          "execution_count": 6
        }
      ]
    },
    {
      "cell_type": "markdown",
      "metadata": {
        "id": "fcCTMySgjby9"
      },
      "source": [
        "Results Data"
      ]
    },
    {
      "cell_type": "code",
      "metadata": {
        "colab": {
          "base_uri": "https://localhost:8080/",
          "height": 206
        },
        "id": "P6aL7wHUjfwp",
        "outputId": "2cd455bd-5a5a-4a3b-d92d-615fe32ff7c5"
      },
      "source": [
        "#Loading the results data\n",
        "\n",
        "dfresults = pd.read_csv('results.csv', parse_dates=['date'])\n",
        "dfresults.head()"
      ],
      "execution_count": 7,
      "outputs": [
        {
          "output_type": "execute_result",
          "data": {
            "text/html": [
              "<div>\n",
              "<style scoped>\n",
              "    .dataframe tbody tr th:only-of-type {\n",
              "        vertical-align: middle;\n",
              "    }\n",
              "\n",
              "    .dataframe tbody tr th {\n",
              "        vertical-align: top;\n",
              "    }\n",
              "\n",
              "    .dataframe thead th {\n",
              "        text-align: right;\n",
              "    }\n",
              "</style>\n",
              "<table border=\"1\" class=\"dataframe\">\n",
              "  <thead>\n",
              "    <tr style=\"text-align: right;\">\n",
              "      <th></th>\n",
              "      <th>date</th>\n",
              "      <th>home_team</th>\n",
              "      <th>away_team</th>\n",
              "      <th>home_score</th>\n",
              "      <th>away_score</th>\n",
              "      <th>tournament</th>\n",
              "      <th>city</th>\n",
              "      <th>country</th>\n",
              "      <th>neutral</th>\n",
              "    </tr>\n",
              "  </thead>\n",
              "  <tbody>\n",
              "    <tr>\n",
              "      <th>0</th>\n",
              "      <td>1872-11-30</td>\n",
              "      <td>Scotland</td>\n",
              "      <td>England</td>\n",
              "      <td>0</td>\n",
              "      <td>0</td>\n",
              "      <td>Friendly</td>\n",
              "      <td>Glasgow</td>\n",
              "      <td>Scotland</td>\n",
              "      <td>False</td>\n",
              "    </tr>\n",
              "    <tr>\n",
              "      <th>1</th>\n",
              "      <td>1873-03-08</td>\n",
              "      <td>England</td>\n",
              "      <td>Scotland</td>\n",
              "      <td>4</td>\n",
              "      <td>2</td>\n",
              "      <td>Friendly</td>\n",
              "      <td>London</td>\n",
              "      <td>England</td>\n",
              "      <td>False</td>\n",
              "    </tr>\n",
              "    <tr>\n",
              "      <th>2</th>\n",
              "      <td>1874-03-07</td>\n",
              "      <td>Scotland</td>\n",
              "      <td>England</td>\n",
              "      <td>2</td>\n",
              "      <td>1</td>\n",
              "      <td>Friendly</td>\n",
              "      <td>Glasgow</td>\n",
              "      <td>Scotland</td>\n",
              "      <td>False</td>\n",
              "    </tr>\n",
              "    <tr>\n",
              "      <th>3</th>\n",
              "      <td>1875-03-06</td>\n",
              "      <td>England</td>\n",
              "      <td>Scotland</td>\n",
              "      <td>2</td>\n",
              "      <td>2</td>\n",
              "      <td>Friendly</td>\n",
              "      <td>London</td>\n",
              "      <td>England</td>\n",
              "      <td>False</td>\n",
              "    </tr>\n",
              "    <tr>\n",
              "      <th>4</th>\n",
              "      <td>1876-03-04</td>\n",
              "      <td>Scotland</td>\n",
              "      <td>England</td>\n",
              "      <td>3</td>\n",
              "      <td>0</td>\n",
              "      <td>Friendly</td>\n",
              "      <td>Glasgow</td>\n",
              "      <td>Scotland</td>\n",
              "      <td>False</td>\n",
              "    </tr>\n",
              "  </tbody>\n",
              "</table>\n",
              "</div>"
            ],
            "text/plain": [
              "        date home_team away_team  ...     city   country neutral\n",
              "0 1872-11-30  Scotland   England  ...  Glasgow  Scotland   False\n",
              "1 1873-03-08   England  Scotland  ...   London   England   False\n",
              "2 1874-03-07  Scotland   England  ...  Glasgow  Scotland   False\n",
              "3 1875-03-06   England  Scotland  ...   London   England   False\n",
              "4 1876-03-04  Scotland   England  ...  Glasgow  Scotland   False\n",
              "\n",
              "[5 rows x 9 columns]"
            ]
          },
          "metadata": {},
          "execution_count": 7
        }
      ]
    },
    {
      "cell_type": "code",
      "metadata": {
        "colab": {
          "base_uri": "https://localhost:8080/"
        },
        "id": "JnbpgPk_kwZp",
        "outputId": "27bbb336-1173-4290-ee93-cb2ad8f24e7c"
      },
      "source": [
        "# Determining the no. of records in our dataset\n",
        "#\n",
        "dfresults.shape"
      ],
      "execution_count": 8,
      "outputs": [
        {
          "output_type": "execute_result",
          "data": {
            "text/plain": [
              "(40839, 9)"
            ]
          },
          "metadata": {},
          "execution_count": 8
        }
      ]
    },
    {
      "cell_type": "code",
      "metadata": {
        "colab": {
          "base_uri": "https://localhost:8080/",
          "height": 206
        },
        "id": "pRfrJgUnkwZq",
        "outputId": "2eebba87-6ffb-49f4-f8e3-6eedaa08e0bd"
      },
      "source": [
        "# Previewing the top of our dataset\n",
        "#\n",
        "dfresults.head()"
      ],
      "execution_count": 9,
      "outputs": [
        {
          "output_type": "execute_result",
          "data": {
            "text/html": [
              "<div>\n",
              "<style scoped>\n",
              "    .dataframe tbody tr th:only-of-type {\n",
              "        vertical-align: middle;\n",
              "    }\n",
              "\n",
              "    .dataframe tbody tr th {\n",
              "        vertical-align: top;\n",
              "    }\n",
              "\n",
              "    .dataframe thead th {\n",
              "        text-align: right;\n",
              "    }\n",
              "</style>\n",
              "<table border=\"1\" class=\"dataframe\">\n",
              "  <thead>\n",
              "    <tr style=\"text-align: right;\">\n",
              "      <th></th>\n",
              "      <th>date</th>\n",
              "      <th>home_team</th>\n",
              "      <th>away_team</th>\n",
              "      <th>home_score</th>\n",
              "      <th>away_score</th>\n",
              "      <th>tournament</th>\n",
              "      <th>city</th>\n",
              "      <th>country</th>\n",
              "      <th>neutral</th>\n",
              "    </tr>\n",
              "  </thead>\n",
              "  <tbody>\n",
              "    <tr>\n",
              "      <th>0</th>\n",
              "      <td>1872-11-30</td>\n",
              "      <td>Scotland</td>\n",
              "      <td>England</td>\n",
              "      <td>0</td>\n",
              "      <td>0</td>\n",
              "      <td>Friendly</td>\n",
              "      <td>Glasgow</td>\n",
              "      <td>Scotland</td>\n",
              "      <td>False</td>\n",
              "    </tr>\n",
              "    <tr>\n",
              "      <th>1</th>\n",
              "      <td>1873-03-08</td>\n",
              "      <td>England</td>\n",
              "      <td>Scotland</td>\n",
              "      <td>4</td>\n",
              "      <td>2</td>\n",
              "      <td>Friendly</td>\n",
              "      <td>London</td>\n",
              "      <td>England</td>\n",
              "      <td>False</td>\n",
              "    </tr>\n",
              "    <tr>\n",
              "      <th>2</th>\n",
              "      <td>1874-03-07</td>\n",
              "      <td>Scotland</td>\n",
              "      <td>England</td>\n",
              "      <td>2</td>\n",
              "      <td>1</td>\n",
              "      <td>Friendly</td>\n",
              "      <td>Glasgow</td>\n",
              "      <td>Scotland</td>\n",
              "      <td>False</td>\n",
              "    </tr>\n",
              "    <tr>\n",
              "      <th>3</th>\n",
              "      <td>1875-03-06</td>\n",
              "      <td>England</td>\n",
              "      <td>Scotland</td>\n",
              "      <td>2</td>\n",
              "      <td>2</td>\n",
              "      <td>Friendly</td>\n",
              "      <td>London</td>\n",
              "      <td>England</td>\n",
              "      <td>False</td>\n",
              "    </tr>\n",
              "    <tr>\n",
              "      <th>4</th>\n",
              "      <td>1876-03-04</td>\n",
              "      <td>Scotland</td>\n",
              "      <td>England</td>\n",
              "      <td>3</td>\n",
              "      <td>0</td>\n",
              "      <td>Friendly</td>\n",
              "      <td>Glasgow</td>\n",
              "      <td>Scotland</td>\n",
              "      <td>False</td>\n",
              "    </tr>\n",
              "  </tbody>\n",
              "</table>\n",
              "</div>"
            ],
            "text/plain": [
              "        date home_team away_team  ...     city   country neutral\n",
              "0 1872-11-30  Scotland   England  ...  Glasgow  Scotland   False\n",
              "1 1873-03-08   England  Scotland  ...   London   England   False\n",
              "2 1874-03-07  Scotland   England  ...  Glasgow  Scotland   False\n",
              "3 1875-03-06   England  Scotland  ...   London   England   False\n",
              "4 1876-03-04  Scotland   England  ...  Glasgow  Scotland   False\n",
              "\n",
              "[5 rows x 9 columns]"
            ]
          },
          "metadata": {},
          "execution_count": 9
        }
      ]
    },
    {
      "cell_type": "code",
      "metadata": {
        "colab": {
          "base_uri": "https://localhost:8080/",
          "height": 206
        },
        "id": "SOIQdOcikwZq",
        "outputId": "4080bb18-fdb2-48ec-9c88-02e6fa44806c"
      },
      "source": [
        "# Previewing the bottom of our dataset\n",
        "# \n",
        "dfresults.tail()"
      ],
      "execution_count": 10,
      "outputs": [
        {
          "output_type": "execute_result",
          "data": {
            "text/html": [
              "<div>\n",
              "<style scoped>\n",
              "    .dataframe tbody tr th:only-of-type {\n",
              "        vertical-align: middle;\n",
              "    }\n",
              "\n",
              "    .dataframe tbody tr th {\n",
              "        vertical-align: top;\n",
              "    }\n",
              "\n",
              "    .dataframe thead th {\n",
              "        text-align: right;\n",
              "    }\n",
              "</style>\n",
              "<table border=\"1\" class=\"dataframe\">\n",
              "  <thead>\n",
              "    <tr style=\"text-align: right;\">\n",
              "      <th></th>\n",
              "      <th>date</th>\n",
              "      <th>home_team</th>\n",
              "      <th>away_team</th>\n",
              "      <th>home_score</th>\n",
              "      <th>away_score</th>\n",
              "      <th>tournament</th>\n",
              "      <th>city</th>\n",
              "      <th>country</th>\n",
              "      <th>neutral</th>\n",
              "    </tr>\n",
              "  </thead>\n",
              "  <tbody>\n",
              "    <tr>\n",
              "      <th>40834</th>\n",
              "      <td>2019-07-18</td>\n",
              "      <td>American Samoa</td>\n",
              "      <td>Tahiti</td>\n",
              "      <td>8</td>\n",
              "      <td>1</td>\n",
              "      <td>Pacific Games</td>\n",
              "      <td>Apia</td>\n",
              "      <td>Samoa</td>\n",
              "      <td>True</td>\n",
              "    </tr>\n",
              "    <tr>\n",
              "      <th>40835</th>\n",
              "      <td>2019-07-18</td>\n",
              "      <td>Fiji</td>\n",
              "      <td>Solomon Islands</td>\n",
              "      <td>4</td>\n",
              "      <td>4</td>\n",
              "      <td>Pacific Games</td>\n",
              "      <td>Apia</td>\n",
              "      <td>Samoa</td>\n",
              "      <td>True</td>\n",
              "    </tr>\n",
              "    <tr>\n",
              "      <th>40836</th>\n",
              "      <td>2019-07-19</td>\n",
              "      <td>Senegal</td>\n",
              "      <td>Algeria</td>\n",
              "      <td>0</td>\n",
              "      <td>1</td>\n",
              "      <td>African Cup of Nations</td>\n",
              "      <td>Cairo</td>\n",
              "      <td>Egypt</td>\n",
              "      <td>True</td>\n",
              "    </tr>\n",
              "    <tr>\n",
              "      <th>40837</th>\n",
              "      <td>2019-07-19</td>\n",
              "      <td>Tajikistan</td>\n",
              "      <td>North Korea</td>\n",
              "      <td>0</td>\n",
              "      <td>1</td>\n",
              "      <td>Intercontinental Cup</td>\n",
              "      <td>Ahmedabad</td>\n",
              "      <td>India</td>\n",
              "      <td>True</td>\n",
              "    </tr>\n",
              "    <tr>\n",
              "      <th>40838</th>\n",
              "      <td>2019-07-20</td>\n",
              "      <td>Papua New Guinea</td>\n",
              "      <td>Fiji</td>\n",
              "      <td>1</td>\n",
              "      <td>1</td>\n",
              "      <td>Pacific Games</td>\n",
              "      <td>Apia</td>\n",
              "      <td>Samoa</td>\n",
              "      <td>True</td>\n",
              "    </tr>\n",
              "  </tbody>\n",
              "</table>\n",
              "</div>"
            ],
            "text/plain": [
              "            date         home_team        away_team  ...       city  country neutral\n",
              "40834 2019-07-18    American Samoa           Tahiti  ...       Apia    Samoa    True\n",
              "40835 2019-07-18              Fiji  Solomon Islands  ...       Apia    Samoa    True\n",
              "40836 2019-07-19           Senegal          Algeria  ...      Cairo    Egypt    True\n",
              "40837 2019-07-19        Tajikistan      North Korea  ...  Ahmedabad    India    True\n",
              "40838 2019-07-20  Papua New Guinea             Fiji  ...       Apia    Samoa    True\n",
              "\n",
              "[5 rows x 9 columns]"
            ]
          },
          "metadata": {},
          "execution_count": 10
        }
      ]
    },
    {
      "cell_type": "code",
      "metadata": {
        "colab": {
          "base_uri": "https://localhost:8080/"
        },
        "id": "0QdMORv0kwZq",
        "outputId": "92b1f70e-9975-468c-c3aa-7428e36f4c28"
      },
      "source": [
        "# Checking whether each column has an appropriate datatype\n",
        "#\n",
        "dfresults.dtypes"
      ],
      "execution_count": 11,
      "outputs": [
        {
          "output_type": "execute_result",
          "data": {
            "text/plain": [
              "date          datetime64[ns]\n",
              "home_team             object\n",
              "away_team             object\n",
              "home_score             int64\n",
              "away_score             int64\n",
              "tournament            object\n",
              "city                  object\n",
              "country               object\n",
              "neutral                 bool\n",
              "dtype: object"
            ]
          },
          "metadata": {},
          "execution_count": 11
        }
      ]
    },
    {
      "cell_type": "markdown",
      "metadata": {
        "id": "SmdkktS5lZk3"
      },
      "source": [
        "**3.0 Tyding the Dataset**\n",
        "\n",
        "\n",
        "\n",
        "1.   Clear unwanted columns\n",
        "2.   Merge the dataset\n",
        "3.   Clean the data\n",
        "\n"
      ]
    },
    {
      "cell_type": "code",
      "metadata": {
        "colab": {
          "base_uri": "https://localhost:8080/",
          "height": 206
        },
        "id": "ZwAKoXlfl5Sf",
        "outputId": "09a8a29e-1e14-499c-f03d-ee99a98df82f"
      },
      "source": [
        "#chosing the relevant columns to work with strating with the ranking dataset we only need rank and country full\n",
        "\n",
        "dfrank1 = dfrank[[\"rank\",\"country_full\"]]\n",
        "dfrank1.head()\n",
        "\n"
      ],
      "execution_count": 12,
      "outputs": [
        {
          "output_type": "execute_result",
          "data": {
            "text/html": [
              "<div>\n",
              "<style scoped>\n",
              "    .dataframe tbody tr th:only-of-type {\n",
              "        vertical-align: middle;\n",
              "    }\n",
              "\n",
              "    .dataframe tbody tr th {\n",
              "        vertical-align: top;\n",
              "    }\n",
              "\n",
              "    .dataframe thead th {\n",
              "        text-align: right;\n",
              "    }\n",
              "</style>\n",
              "<table border=\"1\" class=\"dataframe\">\n",
              "  <thead>\n",
              "    <tr style=\"text-align: right;\">\n",
              "      <th></th>\n",
              "      <th>rank</th>\n",
              "      <th>country_full</th>\n",
              "    </tr>\n",
              "  </thead>\n",
              "  <tbody>\n",
              "    <tr>\n",
              "      <th>0</th>\n",
              "      <td>1</td>\n",
              "      <td>Germany</td>\n",
              "    </tr>\n",
              "    <tr>\n",
              "      <th>1</th>\n",
              "      <td>2</td>\n",
              "      <td>Italy</td>\n",
              "    </tr>\n",
              "    <tr>\n",
              "      <th>2</th>\n",
              "      <td>3</td>\n",
              "      <td>Switzerland</td>\n",
              "    </tr>\n",
              "    <tr>\n",
              "      <th>3</th>\n",
              "      <td>4</td>\n",
              "      <td>Sweden</td>\n",
              "    </tr>\n",
              "    <tr>\n",
              "      <th>4</th>\n",
              "      <td>5</td>\n",
              "      <td>Argentina</td>\n",
              "    </tr>\n",
              "  </tbody>\n",
              "</table>\n",
              "</div>"
            ],
            "text/plain": [
              "   rank country_full\n",
              "0     1      Germany\n",
              "1     2        Italy\n",
              "2     3  Switzerland\n",
              "3     4       Sweden\n",
              "4     5    Argentina"
            ]
          },
          "metadata": {},
          "execution_count": 12
        }
      ]
    },
    {
      "cell_type": "code",
      "metadata": {
        "id": "OE9pDlYRquS1"
      },
      "source": [
        "dfrank2 = dfrank1"
      ],
      "execution_count": 13,
      "outputs": []
    },
    {
      "cell_type": "code",
      "metadata": {
        "colab": {
          "base_uri": "https://localhost:8080/"
        },
        "id": "OI-Qfjusm8lF",
        "outputId": "a78482f7-229d-4e26-9449-7980a9019913"
      },
      "source": [
        "#renaming the country_full column to home_team to merge with the results dataset and obtain the home team rank\n",
        "\n",
        "dfrank3= dfrank1.rename({'country_full': 'home_team'}, axis = 1)\n",
        "dfrank3.columns"
      ],
      "execution_count": 14,
      "outputs": [
        {
          "output_type": "execute_result",
          "data": {
            "text/plain": [
              "Index(['rank', 'home_team'], dtype='object')"
            ]
          },
          "metadata": {},
          "execution_count": 14
        }
      ]
    },
    {
      "cell_type": "code",
      "metadata": {
        "colab": {
          "base_uri": "https://localhost:8080/"
        },
        "id": "XosK_zr7rQZt",
        "outputId": "26af7830-5a10-488c-e634-eab6a91cb460"
      },
      "source": [
        "#creating a copy of the ranking_2 dataframe\n",
        "\n",
        "dfrank4 =  dfrank2\n",
        "\n",
        "#renaming the country_full column to home_team to merge with the results dataset and obtain the away team rank\n",
        "# previewed the head of ranking_4 dataset\n",
        "\n",
        "dfrank4 = dfrank4.rename({'country_full': 'away_team'}, axis = 1)\n",
        "print(dfrank4.columns)"
      ],
      "execution_count": 15,
      "outputs": [
        {
          "output_type": "stream",
          "name": "stdout",
          "text": [
            "Index(['rank', 'away_team'], dtype='object')\n"
          ]
        }
      ]
    },
    {
      "cell_type": "code",
      "metadata": {
        "colab": {
          "base_uri": "https://localhost:8080/",
          "height": 206
        },
        "id": "T8KHmhlnnppx",
        "outputId": "e6e61900-b745-44e5-9b5a-270e964b530f"
      },
      "source": [
        "#Back to results dataset\n",
        "\n",
        "#choosing the relevant columns in the results dataset\n",
        "\n",
        "dfresults1 = dfresults[[\"home_team\",\"away_team\",\"home_score\",\"away_score\",\"tournament\",\"neutral\"]]\n",
        "dfresults1.head()\n"
      ],
      "execution_count": 16,
      "outputs": [
        {
          "output_type": "execute_result",
          "data": {
            "text/html": [
              "<div>\n",
              "<style scoped>\n",
              "    .dataframe tbody tr th:only-of-type {\n",
              "        vertical-align: middle;\n",
              "    }\n",
              "\n",
              "    .dataframe tbody tr th {\n",
              "        vertical-align: top;\n",
              "    }\n",
              "\n",
              "    .dataframe thead th {\n",
              "        text-align: right;\n",
              "    }\n",
              "</style>\n",
              "<table border=\"1\" class=\"dataframe\">\n",
              "  <thead>\n",
              "    <tr style=\"text-align: right;\">\n",
              "      <th></th>\n",
              "      <th>home_team</th>\n",
              "      <th>away_team</th>\n",
              "      <th>home_score</th>\n",
              "      <th>away_score</th>\n",
              "      <th>tournament</th>\n",
              "      <th>neutral</th>\n",
              "    </tr>\n",
              "  </thead>\n",
              "  <tbody>\n",
              "    <tr>\n",
              "      <th>0</th>\n",
              "      <td>Scotland</td>\n",
              "      <td>England</td>\n",
              "      <td>0</td>\n",
              "      <td>0</td>\n",
              "      <td>Friendly</td>\n",
              "      <td>False</td>\n",
              "    </tr>\n",
              "    <tr>\n",
              "      <th>1</th>\n",
              "      <td>England</td>\n",
              "      <td>Scotland</td>\n",
              "      <td>4</td>\n",
              "      <td>2</td>\n",
              "      <td>Friendly</td>\n",
              "      <td>False</td>\n",
              "    </tr>\n",
              "    <tr>\n",
              "      <th>2</th>\n",
              "      <td>Scotland</td>\n",
              "      <td>England</td>\n",
              "      <td>2</td>\n",
              "      <td>1</td>\n",
              "      <td>Friendly</td>\n",
              "      <td>False</td>\n",
              "    </tr>\n",
              "    <tr>\n",
              "      <th>3</th>\n",
              "      <td>England</td>\n",
              "      <td>Scotland</td>\n",
              "      <td>2</td>\n",
              "      <td>2</td>\n",
              "      <td>Friendly</td>\n",
              "      <td>False</td>\n",
              "    </tr>\n",
              "    <tr>\n",
              "      <th>4</th>\n",
              "      <td>Scotland</td>\n",
              "      <td>England</td>\n",
              "      <td>3</td>\n",
              "      <td>0</td>\n",
              "      <td>Friendly</td>\n",
              "      <td>False</td>\n",
              "    </tr>\n",
              "  </tbody>\n",
              "</table>\n",
              "</div>"
            ],
            "text/plain": [
              "  home_team away_team  home_score  away_score tournament  neutral\n",
              "0  Scotland   England           0           0   Friendly    False\n",
              "1   England  Scotland           4           2   Friendly    False\n",
              "2  Scotland   England           2           1   Friendly    False\n",
              "3   England  Scotland           2           2   Friendly    False\n",
              "4  Scotland   England           3           0   Friendly    False"
            ]
          },
          "metadata": {},
          "execution_count": 16
        }
      ]
    },
    {
      "cell_type": "code",
      "metadata": {
        "colab": {
          "base_uri": "https://localhost:8080/",
          "height": 206
        },
        "id": "OWwIQzdkn_jQ",
        "outputId": "1cdf6ddc-d5d9-4332-a4c3-d94c01fe836e"
      },
      "source": [
        "# Merging the two datasets to obtain the home_team rank dataset : home_team, year and month\n",
        "dfresults2=dfresults1\n",
        "home_df = pd.merge(dfresults1, dfrank3, how='left', on = ['home_team'])\n",
        "#Renaming rank to home team rank\n",
        "home_df = home_df.rename({'rank': 'home_team_rank'}, axis = 1)\n",
        "home_df.head()"
      ],
      "execution_count": 17,
      "outputs": [
        {
          "output_type": "execute_result",
          "data": {
            "text/html": [
              "<div>\n",
              "<style scoped>\n",
              "    .dataframe tbody tr th:only-of-type {\n",
              "        vertical-align: middle;\n",
              "    }\n",
              "\n",
              "    .dataframe tbody tr th {\n",
              "        vertical-align: top;\n",
              "    }\n",
              "\n",
              "    .dataframe thead th {\n",
              "        text-align: right;\n",
              "    }\n",
              "</style>\n",
              "<table border=\"1\" class=\"dataframe\">\n",
              "  <thead>\n",
              "    <tr style=\"text-align: right;\">\n",
              "      <th></th>\n",
              "      <th>home_team</th>\n",
              "      <th>away_team</th>\n",
              "      <th>home_score</th>\n",
              "      <th>away_score</th>\n",
              "      <th>tournament</th>\n",
              "      <th>neutral</th>\n",
              "      <th>home_team_rank</th>\n",
              "    </tr>\n",
              "  </thead>\n",
              "  <tbody>\n",
              "    <tr>\n",
              "      <th>0</th>\n",
              "      <td>Scotland</td>\n",
              "      <td>England</td>\n",
              "      <td>0</td>\n",
              "      <td>0</td>\n",
              "      <td>Friendly</td>\n",
              "      <td>False</td>\n",
              "      <td>30.0</td>\n",
              "    </tr>\n",
              "    <tr>\n",
              "      <th>1</th>\n",
              "      <td>Scotland</td>\n",
              "      <td>England</td>\n",
              "      <td>0</td>\n",
              "      <td>0</td>\n",
              "      <td>Friendly</td>\n",
              "      <td>False</td>\n",
              "      <td>28.0</td>\n",
              "    </tr>\n",
              "    <tr>\n",
              "      <th>2</th>\n",
              "      <td>Scotland</td>\n",
              "      <td>England</td>\n",
              "      <td>0</td>\n",
              "      <td>0</td>\n",
              "      <td>Friendly</td>\n",
              "      <td>False</td>\n",
              "      <td>29.0</td>\n",
              "    </tr>\n",
              "    <tr>\n",
              "      <th>3</th>\n",
              "      <td>Scotland</td>\n",
              "      <td>England</td>\n",
              "      <td>0</td>\n",
              "      <td>0</td>\n",
              "      <td>Friendly</td>\n",
              "      <td>False</td>\n",
              "      <td>25.0</td>\n",
              "    </tr>\n",
              "    <tr>\n",
              "      <th>4</th>\n",
              "      <td>Scotland</td>\n",
              "      <td>England</td>\n",
              "      <td>0</td>\n",
              "      <td>0</td>\n",
              "      <td>Friendly</td>\n",
              "      <td>False</td>\n",
              "      <td>24.0</td>\n",
              "    </tr>\n",
              "  </tbody>\n",
              "</table>\n",
              "</div>"
            ],
            "text/plain": [
              "  home_team away_team  home_score  ...  tournament neutral  home_team_rank\n",
              "0  Scotland   England           0  ...    Friendly   False            30.0\n",
              "1  Scotland   England           0  ...    Friendly   False            28.0\n",
              "2  Scotland   England           0  ...    Friendly   False            29.0\n",
              "3  Scotland   England           0  ...    Friendly   False            25.0\n",
              "4  Scotland   England           0  ...    Friendly   False            24.0\n",
              "\n",
              "[5 rows x 7 columns]"
            ]
          },
          "metadata": {},
          "execution_count": 17
        }
      ]
    },
    {
      "cell_type": "code",
      "metadata": {
        "colab": {
          "base_uri": "https://localhost:8080/",
          "height": 206
        },
        "id": "416v7txSrdu8",
        "outputId": "d7dc636a-f3c4-466b-c926-46a8f5a868b1"
      },
      "source": [
        "# Merging the two datasets to obtain the away_team rank dataset\n",
        "\n",
        "away_df = pd.merge(dfresults1, dfrank4, how='left', on = ['away_team'])\n",
        "\n",
        "#renaming the rank column to obtaing the away_team_rank\n",
        "\n",
        "away_df = away_df.rename({'rank': 'away_team_rank'}, axis = 1)\n",
        "away_df.head()"
      ],
      "execution_count": 18,
      "outputs": [
        {
          "output_type": "execute_result",
          "data": {
            "text/html": [
              "<div>\n",
              "<style scoped>\n",
              "    .dataframe tbody tr th:only-of-type {\n",
              "        vertical-align: middle;\n",
              "    }\n",
              "\n",
              "    .dataframe tbody tr th {\n",
              "        vertical-align: top;\n",
              "    }\n",
              "\n",
              "    .dataframe thead th {\n",
              "        text-align: right;\n",
              "    }\n",
              "</style>\n",
              "<table border=\"1\" class=\"dataframe\">\n",
              "  <thead>\n",
              "    <tr style=\"text-align: right;\">\n",
              "      <th></th>\n",
              "      <th>home_team</th>\n",
              "      <th>away_team</th>\n",
              "      <th>home_score</th>\n",
              "      <th>away_score</th>\n",
              "      <th>tournament</th>\n",
              "      <th>neutral</th>\n",
              "      <th>away_team_rank</th>\n",
              "    </tr>\n",
              "  </thead>\n",
              "  <tbody>\n",
              "    <tr>\n",
              "      <th>0</th>\n",
              "      <td>Scotland</td>\n",
              "      <td>England</td>\n",
              "      <td>0</td>\n",
              "      <td>0</td>\n",
              "      <td>Friendly</td>\n",
              "      <td>False</td>\n",
              "      <td>11.0</td>\n",
              "    </tr>\n",
              "    <tr>\n",
              "      <th>1</th>\n",
              "      <td>Scotland</td>\n",
              "      <td>England</td>\n",
              "      <td>0</td>\n",
              "      <td>0</td>\n",
              "      <td>Friendly</td>\n",
              "      <td>False</td>\n",
              "      <td>5.0</td>\n",
              "    </tr>\n",
              "    <tr>\n",
              "      <th>2</th>\n",
              "      <td>Scotland</td>\n",
              "      <td>England</td>\n",
              "      <td>0</td>\n",
              "      <td>0</td>\n",
              "      <td>Friendly</td>\n",
              "      <td>False</td>\n",
              "      <td>10.0</td>\n",
              "    </tr>\n",
              "    <tr>\n",
              "      <th>3</th>\n",
              "      <td>Scotland</td>\n",
              "      <td>England</td>\n",
              "      <td>0</td>\n",
              "      <td>0</td>\n",
              "      <td>Friendly</td>\n",
              "      <td>False</td>\n",
              "      <td>8.0</td>\n",
              "    </tr>\n",
              "    <tr>\n",
              "      <th>4</th>\n",
              "      <td>Scotland</td>\n",
              "      <td>England</td>\n",
              "      <td>0</td>\n",
              "      <td>0</td>\n",
              "      <td>Friendly</td>\n",
              "      <td>False</td>\n",
              "      <td>11.0</td>\n",
              "    </tr>\n",
              "  </tbody>\n",
              "</table>\n",
              "</div>"
            ],
            "text/plain": [
              "  home_team away_team  home_score  ...  tournament neutral  away_team_rank\n",
              "0  Scotland   England           0  ...    Friendly   False            11.0\n",
              "1  Scotland   England           0  ...    Friendly   False             5.0\n",
              "2  Scotland   England           0  ...    Friendly   False            10.0\n",
              "3  Scotland   England           0  ...    Friendly   False             8.0\n",
              "4  Scotland   England           0  ...    Friendly   False            11.0\n",
              "\n",
              "[5 rows x 7 columns]"
            ]
          },
          "metadata": {},
          "execution_count": 18
        }
      ]
    },
    {
      "cell_type": "code",
      "metadata": {
        "colab": {
          "base_uri": "https://localhost:8080/",
          "height": 206
        },
        "id": "hiGWgSQbtChO",
        "outputId": "5278394c-f59b-45b3-ce79-d49b1611cc6a"
      },
      "source": [
        "#obtaining the final dataset for modelling\n",
        "#result = pd.concat([df1, df4], axis=1, join=\"inner\")\n",
        "\n",
        "final_df = pd.concat([home_df, away_df], axis=1, join = 'inner')\n",
        "\n",
        "final_df.head()"
      ],
      "execution_count": 19,
      "outputs": [
        {
          "output_type": "execute_result",
          "data": {
            "text/html": [
              "<div>\n",
              "<style scoped>\n",
              "    .dataframe tbody tr th:only-of-type {\n",
              "        vertical-align: middle;\n",
              "    }\n",
              "\n",
              "    .dataframe tbody tr th {\n",
              "        vertical-align: top;\n",
              "    }\n",
              "\n",
              "    .dataframe thead th {\n",
              "        text-align: right;\n",
              "    }\n",
              "</style>\n",
              "<table border=\"1\" class=\"dataframe\">\n",
              "  <thead>\n",
              "    <tr style=\"text-align: right;\">\n",
              "      <th></th>\n",
              "      <th>home_team</th>\n",
              "      <th>away_team</th>\n",
              "      <th>home_score</th>\n",
              "      <th>away_score</th>\n",
              "      <th>tournament</th>\n",
              "      <th>neutral</th>\n",
              "      <th>home_team_rank</th>\n",
              "      <th>home_team</th>\n",
              "      <th>away_team</th>\n",
              "      <th>home_score</th>\n",
              "      <th>away_score</th>\n",
              "      <th>tournament</th>\n",
              "      <th>neutral</th>\n",
              "      <th>away_team_rank</th>\n",
              "    </tr>\n",
              "  </thead>\n",
              "  <tbody>\n",
              "    <tr>\n",
              "      <th>0</th>\n",
              "      <td>Scotland</td>\n",
              "      <td>England</td>\n",
              "      <td>0</td>\n",
              "      <td>0</td>\n",
              "      <td>Friendly</td>\n",
              "      <td>False</td>\n",
              "      <td>30.0</td>\n",
              "      <td>Scotland</td>\n",
              "      <td>England</td>\n",
              "      <td>0</td>\n",
              "      <td>0</td>\n",
              "      <td>Friendly</td>\n",
              "      <td>False</td>\n",
              "      <td>11.0</td>\n",
              "    </tr>\n",
              "    <tr>\n",
              "      <th>1</th>\n",
              "      <td>Scotland</td>\n",
              "      <td>England</td>\n",
              "      <td>0</td>\n",
              "      <td>0</td>\n",
              "      <td>Friendly</td>\n",
              "      <td>False</td>\n",
              "      <td>28.0</td>\n",
              "      <td>Scotland</td>\n",
              "      <td>England</td>\n",
              "      <td>0</td>\n",
              "      <td>0</td>\n",
              "      <td>Friendly</td>\n",
              "      <td>False</td>\n",
              "      <td>5.0</td>\n",
              "    </tr>\n",
              "    <tr>\n",
              "      <th>2</th>\n",
              "      <td>Scotland</td>\n",
              "      <td>England</td>\n",
              "      <td>0</td>\n",
              "      <td>0</td>\n",
              "      <td>Friendly</td>\n",
              "      <td>False</td>\n",
              "      <td>29.0</td>\n",
              "      <td>Scotland</td>\n",
              "      <td>England</td>\n",
              "      <td>0</td>\n",
              "      <td>0</td>\n",
              "      <td>Friendly</td>\n",
              "      <td>False</td>\n",
              "      <td>10.0</td>\n",
              "    </tr>\n",
              "    <tr>\n",
              "      <th>3</th>\n",
              "      <td>Scotland</td>\n",
              "      <td>England</td>\n",
              "      <td>0</td>\n",
              "      <td>0</td>\n",
              "      <td>Friendly</td>\n",
              "      <td>False</td>\n",
              "      <td>25.0</td>\n",
              "      <td>Scotland</td>\n",
              "      <td>England</td>\n",
              "      <td>0</td>\n",
              "      <td>0</td>\n",
              "      <td>Friendly</td>\n",
              "      <td>False</td>\n",
              "      <td>8.0</td>\n",
              "    </tr>\n",
              "    <tr>\n",
              "      <th>4</th>\n",
              "      <td>Scotland</td>\n",
              "      <td>England</td>\n",
              "      <td>0</td>\n",
              "      <td>0</td>\n",
              "      <td>Friendly</td>\n",
              "      <td>False</td>\n",
              "      <td>24.0</td>\n",
              "      <td>Scotland</td>\n",
              "      <td>England</td>\n",
              "      <td>0</td>\n",
              "      <td>0</td>\n",
              "      <td>Friendly</td>\n",
              "      <td>False</td>\n",
              "      <td>11.0</td>\n",
              "    </tr>\n",
              "  </tbody>\n",
              "</table>\n",
              "</div>"
            ],
            "text/plain": [
              "  home_team away_team  home_score  ...  tournament neutral  away_team_rank\n",
              "0  Scotland   England           0  ...    Friendly   False            11.0\n",
              "1  Scotland   England           0  ...    Friendly   False             5.0\n",
              "2  Scotland   England           0  ...    Friendly   False            10.0\n",
              "3  Scotland   England           0  ...    Friendly   False             8.0\n",
              "4  Scotland   England           0  ...    Friendly   False            11.0\n",
              "\n",
              "[5 rows x 14 columns]"
            ]
          },
          "metadata": {},
          "execution_count": 19
        }
      ]
    },
    {
      "cell_type": "code",
      "metadata": {
        "colab": {
          "base_uri": "https://localhost:8080/",
          "height": 206
        },
        "id": "d0imo9yUx6M7",
        "outputId": "06b2e99b-5536-471e-852e-74a3942df18a"
      },
      "source": [
        "#Here lets remove duplicated columns\n",
        "\n",
        "finaldf = final_df\n",
        "\n",
        "finaldf = finaldf.loc[:,~finaldf.columns.duplicated()]\n",
        "finaldf.head()\n"
      ],
      "execution_count": 20,
      "outputs": [
        {
          "output_type": "execute_result",
          "data": {
            "text/html": [
              "<div>\n",
              "<style scoped>\n",
              "    .dataframe tbody tr th:only-of-type {\n",
              "        vertical-align: middle;\n",
              "    }\n",
              "\n",
              "    .dataframe tbody tr th {\n",
              "        vertical-align: top;\n",
              "    }\n",
              "\n",
              "    .dataframe thead th {\n",
              "        text-align: right;\n",
              "    }\n",
              "</style>\n",
              "<table border=\"1\" class=\"dataframe\">\n",
              "  <thead>\n",
              "    <tr style=\"text-align: right;\">\n",
              "      <th></th>\n",
              "      <th>home_team</th>\n",
              "      <th>away_team</th>\n",
              "      <th>home_score</th>\n",
              "      <th>away_score</th>\n",
              "      <th>tournament</th>\n",
              "      <th>neutral</th>\n",
              "      <th>home_team_rank</th>\n",
              "      <th>away_team_rank</th>\n",
              "    </tr>\n",
              "  </thead>\n",
              "  <tbody>\n",
              "    <tr>\n",
              "      <th>0</th>\n",
              "      <td>Scotland</td>\n",
              "      <td>England</td>\n",
              "      <td>0</td>\n",
              "      <td>0</td>\n",
              "      <td>Friendly</td>\n",
              "      <td>False</td>\n",
              "      <td>30.0</td>\n",
              "      <td>11.0</td>\n",
              "    </tr>\n",
              "    <tr>\n",
              "      <th>1</th>\n",
              "      <td>Scotland</td>\n",
              "      <td>England</td>\n",
              "      <td>0</td>\n",
              "      <td>0</td>\n",
              "      <td>Friendly</td>\n",
              "      <td>False</td>\n",
              "      <td>28.0</td>\n",
              "      <td>5.0</td>\n",
              "    </tr>\n",
              "    <tr>\n",
              "      <th>2</th>\n",
              "      <td>Scotland</td>\n",
              "      <td>England</td>\n",
              "      <td>0</td>\n",
              "      <td>0</td>\n",
              "      <td>Friendly</td>\n",
              "      <td>False</td>\n",
              "      <td>29.0</td>\n",
              "      <td>10.0</td>\n",
              "    </tr>\n",
              "    <tr>\n",
              "      <th>3</th>\n",
              "      <td>Scotland</td>\n",
              "      <td>England</td>\n",
              "      <td>0</td>\n",
              "      <td>0</td>\n",
              "      <td>Friendly</td>\n",
              "      <td>False</td>\n",
              "      <td>25.0</td>\n",
              "      <td>8.0</td>\n",
              "    </tr>\n",
              "    <tr>\n",
              "      <th>4</th>\n",
              "      <td>Scotland</td>\n",
              "      <td>England</td>\n",
              "      <td>0</td>\n",
              "      <td>0</td>\n",
              "      <td>Friendly</td>\n",
              "      <td>False</td>\n",
              "      <td>24.0</td>\n",
              "      <td>11.0</td>\n",
              "    </tr>\n",
              "  </tbody>\n",
              "</table>\n",
              "</div>"
            ],
            "text/plain": [
              "  home_team away_team  home_score  ...  neutral home_team_rank  away_team_rank\n",
              "0  Scotland   England           0  ...    False           30.0            11.0\n",
              "1  Scotland   England           0  ...    False           28.0             5.0\n",
              "2  Scotland   England           0  ...    False           29.0            10.0\n",
              "3  Scotland   England           0  ...    False           25.0             8.0\n",
              "4  Scotland   England           0  ...    False           24.0            11.0\n",
              "\n",
              "[5 rows x 8 columns]"
            ]
          },
          "metadata": {},
          "execution_count": 20
        }
      ]
    },
    {
      "cell_type": "markdown",
      "metadata": {
        "id": "iot1w64G04I7"
      },
      "source": [
        "Clean the data"
      ]
    },
    {
      "cell_type": "code",
      "metadata": {
        "colab": {
          "base_uri": "https://localhost:8080/"
        },
        "id": "s-S3b0hN074x",
        "outputId": "f5b18b81-7192-4c08-e131-bc35473f4500"
      },
      "source": [
        "# Identifying the Missing Data\n",
        "\n",
        "finaldf.isnull().sum()"
      ],
      "execution_count": 21,
      "outputs": [
        {
          "output_type": "execute_result",
          "data": {
            "text/plain": [
              "home_team            0\n",
              "away_team            0\n",
              "home_score           0\n",
              "away_score           0\n",
              "tournament           0\n",
              "neutral              0\n",
              "home_team_rank    4233\n",
              "away_team_rank    4461\n",
              "dtype: int64"
            ]
          },
          "metadata": {},
          "execution_count": 21
        }
      ]
    },
    {
      "cell_type": "code",
      "metadata": {
        "colab": {
          "base_uri": "https://localhost:8080/"
        },
        "id": "COHEuBKb1aBb",
        "outputId": "f6ab7170-c96b-4767-add8-4532353a6df6"
      },
      "source": [
        "# Dealing with the Missing Data\n",
        "\n",
        "finaldf1 = finaldf.dropna()\n",
        "finaldf1.isnull().sum()\n"
      ],
      "execution_count": 22,
      "outputs": [
        {
          "output_type": "execute_result",
          "data": {
            "text/plain": [
              "home_team         0\n",
              "away_team         0\n",
              "home_score        0\n",
              "away_score        0\n",
              "tournament        0\n",
              "neutral           0\n",
              "home_team_rank    0\n",
              "away_team_rank    0\n",
              "dtype: int64"
            ]
          },
          "metadata": {},
          "execution_count": 22
        }
      ]
    },
    {
      "cell_type": "code",
      "metadata": {
        "id": "g43DDEs35P_H"
      },
      "source": [
        "polydf = finaldf1"
      ],
      "execution_count": 23,
      "outputs": []
    },
    {
      "cell_type": "markdown",
      "metadata": {
        "id": "LzHtoOGG42B2"
      },
      "source": [
        "**4.0 Feature Engineering**"
      ]
    },
    {
      "cell_type": "code",
      "metadata": {
        "colab": {
          "base_uri": "https://localhost:8080/"
        },
        "id": "pH8Yzla75D5x",
        "outputId": "1191265d-c7b1-4d8d-dd10-9070f6030a38"
      },
      "source": [
        "#have tournament type as only World Cup, Friendly and Other\n",
        "\n",
        "polydf.tournament = polydf.tournament.apply(lambda x: x.strip())\n",
        "polydf.tournament = polydf.tournament.apply(lambda x: 'World Cup' if x == 'FIFA World Cup qualification' else ( 'World Cup' if x == 'FIFA World Cup' else ('Friendly' if x == 'Friendly' else 'Other')))\n",
        "\n",
        "polydf.tournament.unique()"
      ],
      "execution_count": 24,
      "outputs": [
        {
          "output_type": "execute_result",
          "data": {
            "text/plain": [
              "array(['Friendly', 'Other', 'World Cup'], dtype=object)"
            ]
          },
          "metadata": {},
          "execution_count": 24
        }
      ]
    },
    {
      "cell_type": "code",
      "metadata": {
        "colab": {
          "base_uri": "https://localhost:8080/",
          "height": 206
        },
        "id": "KPUFaaq96RdM",
        "outputId": "bee1d257-3735-4bc0-d3f5-df94a47bad51"
      },
      "source": [
        "#For our Polynomial approach lets remain what to train given that is\n",
        "#Rank of home team\n",
        "#Rank of away team\n",
        "#Tournament type\n",
        "#home scores as our predictor\n",
        "\n",
        "#choosing the relevant columns in the results dataset\n",
        "homescore = polydf\n",
        "homescore = homescore[[\"home_team_rank\",\"away_team_rank\",\"tournament\", \"home_score\"]]\n",
        "homescore.head()\n",
        "\n"
      ],
      "execution_count": 25,
      "outputs": [
        {
          "output_type": "execute_result",
          "data": {
            "text/html": [
              "<div>\n",
              "<style scoped>\n",
              "    .dataframe tbody tr th:only-of-type {\n",
              "        vertical-align: middle;\n",
              "    }\n",
              "\n",
              "    .dataframe tbody tr th {\n",
              "        vertical-align: top;\n",
              "    }\n",
              "\n",
              "    .dataframe thead th {\n",
              "        text-align: right;\n",
              "    }\n",
              "</style>\n",
              "<table border=\"1\" class=\"dataframe\">\n",
              "  <thead>\n",
              "    <tr style=\"text-align: right;\">\n",
              "      <th></th>\n",
              "      <th>home_team_rank</th>\n",
              "      <th>away_team_rank</th>\n",
              "      <th>tournament</th>\n",
              "      <th>home_score</th>\n",
              "    </tr>\n",
              "  </thead>\n",
              "  <tbody>\n",
              "    <tr>\n",
              "      <th>0</th>\n",
              "      <td>30.0</td>\n",
              "      <td>11.0</td>\n",
              "      <td>Friendly</td>\n",
              "      <td>0</td>\n",
              "    </tr>\n",
              "    <tr>\n",
              "      <th>1</th>\n",
              "      <td>28.0</td>\n",
              "      <td>5.0</td>\n",
              "      <td>Friendly</td>\n",
              "      <td>0</td>\n",
              "    </tr>\n",
              "    <tr>\n",
              "      <th>2</th>\n",
              "      <td>29.0</td>\n",
              "      <td>10.0</td>\n",
              "      <td>Friendly</td>\n",
              "      <td>0</td>\n",
              "    </tr>\n",
              "    <tr>\n",
              "      <th>3</th>\n",
              "      <td>25.0</td>\n",
              "      <td>8.0</td>\n",
              "      <td>Friendly</td>\n",
              "      <td>0</td>\n",
              "    </tr>\n",
              "    <tr>\n",
              "      <th>4</th>\n",
              "      <td>24.0</td>\n",
              "      <td>11.0</td>\n",
              "      <td>Friendly</td>\n",
              "      <td>0</td>\n",
              "    </tr>\n",
              "  </tbody>\n",
              "</table>\n",
              "</div>"
            ],
            "text/plain": [
              "   home_team_rank  away_team_rank tournament  home_score\n",
              "0            30.0            11.0   Friendly           0\n",
              "1            28.0             5.0   Friendly           0\n",
              "2            29.0            10.0   Friendly           0\n",
              "3            25.0             8.0   Friendly           0\n",
              "4            24.0            11.0   Friendly           0"
            ]
          },
          "metadata": {},
          "execution_count": 25
        }
      ]
    },
    {
      "cell_type": "code",
      "metadata": {
        "colab": {
          "base_uri": "https://localhost:8080/",
          "height": 206
        },
        "id": "tazoqWNc8cAf",
        "outputId": "d75412f5-d6dc-4ec3-e221-048ce5f1fb6b"
      },
      "source": [
        "#encode tournament\n",
        "#label encoding\n",
        "from sklearn.preprocessing import LabelEncoder\n",
        "# instantiate labelencoder object\n",
        "le = LabelEncoder()\n",
        "\n",
        "# apply le on categorical feature columns\n",
        "homescore['tournament'] = le.fit_transform(homescore['tournament'])\n",
        "\n",
        "homescore.head()"
      ],
      "execution_count": 26,
      "outputs": [
        {
          "output_type": "execute_result",
          "data": {
            "text/html": [
              "<div>\n",
              "<style scoped>\n",
              "    .dataframe tbody tr th:only-of-type {\n",
              "        vertical-align: middle;\n",
              "    }\n",
              "\n",
              "    .dataframe tbody tr th {\n",
              "        vertical-align: top;\n",
              "    }\n",
              "\n",
              "    .dataframe thead th {\n",
              "        text-align: right;\n",
              "    }\n",
              "</style>\n",
              "<table border=\"1\" class=\"dataframe\">\n",
              "  <thead>\n",
              "    <tr style=\"text-align: right;\">\n",
              "      <th></th>\n",
              "      <th>home_team_rank</th>\n",
              "      <th>away_team_rank</th>\n",
              "      <th>tournament</th>\n",
              "      <th>home_score</th>\n",
              "    </tr>\n",
              "  </thead>\n",
              "  <tbody>\n",
              "    <tr>\n",
              "      <th>0</th>\n",
              "      <td>30.0</td>\n",
              "      <td>11.0</td>\n",
              "      <td>0</td>\n",
              "      <td>0</td>\n",
              "    </tr>\n",
              "    <tr>\n",
              "      <th>1</th>\n",
              "      <td>28.0</td>\n",
              "      <td>5.0</td>\n",
              "      <td>0</td>\n",
              "      <td>0</td>\n",
              "    </tr>\n",
              "    <tr>\n",
              "      <th>2</th>\n",
              "      <td>29.0</td>\n",
              "      <td>10.0</td>\n",
              "      <td>0</td>\n",
              "      <td>0</td>\n",
              "    </tr>\n",
              "    <tr>\n",
              "      <th>3</th>\n",
              "      <td>25.0</td>\n",
              "      <td>8.0</td>\n",
              "      <td>0</td>\n",
              "      <td>0</td>\n",
              "    </tr>\n",
              "    <tr>\n",
              "      <th>4</th>\n",
              "      <td>24.0</td>\n",
              "      <td>11.0</td>\n",
              "      <td>0</td>\n",
              "      <td>0</td>\n",
              "    </tr>\n",
              "  </tbody>\n",
              "</table>\n",
              "</div>"
            ],
            "text/plain": [
              "   home_team_rank  away_team_rank  tournament  home_score\n",
              "0            30.0            11.0           0           0\n",
              "1            28.0             5.0           0           0\n",
              "2            29.0            10.0           0           0\n",
              "3            25.0             8.0           0           0\n",
              "4            24.0            11.0           0           0"
            ]
          },
          "metadata": {},
          "execution_count": 26
        }
      ]
    },
    {
      "cell_type": "code",
      "metadata": {
        "colab": {
          "base_uri": "https://localhost:8080/",
          "height": 346
        },
        "id": "UD8bMRpg75GP",
        "outputId": "fa4cb8bb-e92f-4e8a-ad3d-b346f7170ec2"
      },
      "source": [
        "#correlation heatmap\n",
        "sns.heatmap(homescore.corr(),annot=True)\n",
        "plt.show()"
      ],
      "execution_count": 27,
      "outputs": [
        {
          "output_type": "display_data",
          "data": {
            "image/png": "[encoded data removed]",
            "text/plain": [
              "<Figure size 432x288 with 2 Axes>"
            ]
          },
          "metadata": {
            "needs_background": "light"
          }
        }
      ]
    },
    {
      "cell_type": "code",
      "metadata": {
        "colab": {
          "base_uri": "https://localhost:8080/",
          "height": 175
        },
        "id": "AdfutYXk9rVM",
        "outputId": "e7dd1b9d-31b9-4e88-913d-dd70b1f4b4e5"
      },
      "source": [
        "#multicollinearity test\n",
        "\n",
        "\n",
        "\n",
        "# Let's display the correlations between the variables\n",
        "correlations = homescore.corr()\n",
        "\n",
        "correlations"
      ],
      "execution_count": 28,
      "outputs": [
        {
          "output_type": "execute_result",
          "data": {
            "text/html": [
              "<div>\n",
              "<style scoped>\n",
              "    .dataframe tbody tr th:only-of-type {\n",
              "        vertical-align: middle;\n",
              "    }\n",
              "\n",
              "    .dataframe tbody tr th {\n",
              "        vertical-align: top;\n",
              "    }\n",
              "\n",
              "    .dataframe thead th {\n",
              "        text-align: right;\n",
              "    }\n",
              "</style>\n",
              "<table border=\"1\" class=\"dataframe\">\n",
              "  <thead>\n",
              "    <tr style=\"text-align: right;\">\n",
              "      <th></th>\n",
              "      <th>home_team_rank</th>\n",
              "      <th>away_team_rank</th>\n",
              "      <th>tournament</th>\n",
              "      <th>home_score</th>\n",
              "    </tr>\n",
              "  </thead>\n",
              "  <tbody>\n",
              "    <tr>\n",
              "      <th>home_team_rank</th>\n",
              "      <td>1.000000</td>\n",
              "      <td>0.056657</td>\n",
              "      <td>0.034159</td>\n",
              "      <td>-0.117358</td>\n",
              "    </tr>\n",
              "    <tr>\n",
              "      <th>away_team_rank</th>\n",
              "      <td>0.056657</td>\n",
              "      <td>1.000000</td>\n",
              "      <td>0.032148</td>\n",
              "      <td>-0.022052</td>\n",
              "    </tr>\n",
              "    <tr>\n",
              "      <th>tournament</th>\n",
              "      <td>0.034159</td>\n",
              "      <td>0.032148</td>\n",
              "      <td>1.000000</td>\n",
              "      <td>0.018934</td>\n",
              "    </tr>\n",
              "    <tr>\n",
              "      <th>home_score</th>\n",
              "      <td>-0.117358</td>\n",
              "      <td>-0.022052</td>\n",
              "      <td>0.018934</td>\n",
              "      <td>1.000000</td>\n",
              "    </tr>\n",
              "  </tbody>\n",
              "</table>\n",
              "</div>"
            ],
            "text/plain": [
              "                home_team_rank  away_team_rank  tournament  home_score\n",
              "home_team_rank        1.000000        0.056657    0.034159   -0.117358\n",
              "away_team_rank        0.056657        1.000000    0.032148   -0.022052\n",
              "tournament            0.034159        0.032148    1.000000    0.018934\n",
              "home_score           -0.117358       -0.022052    0.018934    1.000000"
            ]
          },
          "metadata": {},
          "execution_count": 28
        }
      ]
    },
    {
      "cell_type": "markdown",
      "metadata": {
        "id": "Eh54nN57-l1t"
      },
      "source": [
        "##**5.0 Implementing the Solution**\n",
        "\n",
        "**Polynomial Regression**\n",
        "\n",
        "Training the Polynomial Regression model on the whole dataset"
      ]
    },
    {
      "cell_type": "code",
      "metadata": {
        "id": "KkWXuxsk_Dex"
      },
      "source": [
        "#separating the data to features and label (model 1: Home scores)\n",
        "#tournament Other = 1, Friendly = 0, WorldCup = 2\n",
        "X = (homescore[['home_team_rank','away_team_rank','tournament']]).values\n",
        "y = (homescore[['home_score']]).values"
      ],
      "execution_count": 29,
      "outputs": []
    },
    {
      "cell_type": "code",
      "metadata": {
        "id": "OjA13Fl2_dkl"
      },
      "source": [
        "# Splitting the data\n",
        " \n",
        "from sklearn.model_selection import train_test_split\n",
        "X_train, X_test, y_train, y_test = train_test_split(X, y, test_size=0.2, random_state=0)"
      ],
      "execution_count": 30,
      "outputs": []
    },
    {
      "cell_type": "code",
      "metadata": {
        "colab": {
          "base_uri": "https://localhost:8080/"
        },
        "id": "Yz8aytz1_jbT",
        "outputId": "bac76fb2-6119-4bbb-8988-ec6a567e9010"
      },
      "source": [
        "#creating the model\n",
        "from sklearn.linear_model import LinearRegression\n",
        "from sklearn.preprocessing import PolynomialFeatures\n",
        "poly_reg = PolynomialFeatures(degree = 3)\n",
        "X_poly = poly_reg.fit_transform(X_train)\n",
        "lin_reg_2 = LinearRegression()\n",
        "lin_reg_2.fit(X_poly, y_train)"
      ],
      "execution_count": 31,
      "outputs": [
        {
          "output_type": "execute_result",
          "data": {
            "text/plain": [
              "LinearRegression()"
            ]
          },
          "metadata": {},
          "execution_count": 31
        }
      ]
    },
    {
      "cell_type": "markdown",
      "metadata": {
        "id": "7ljatADcAQ-D"
      },
      "source": [
        "**Predicting with Polnomial**"
      ]
    },
    {
      "cell_type": "code",
      "metadata": {
        "id": "cj8GopYrAP-T"
      },
      "source": [
        "#Using X_test to predict\n",
        "preds = lin_reg_2.predict(poly_reg.fit_transform(X_test))"
      ],
      "execution_count": 32,
      "outputs": []
    },
    {
      "cell_type": "code",
      "metadata": {
        "colab": {
          "base_uri": "https://localhost:8080/"
        },
        "id": "BCCKNqZ2AbXr",
        "outputId": "bcdff2d8-15bf-458e-ce0b-19548495dbbb"
      },
      "source": [
        "#printing out predicted home scores against test\n",
        "np.set_printoptions(precision=2)\n",
        "print(np.concatenate((preds.reshape(len(preds),1), y_test.reshape(len(y_test),1)),1))"
      ],
      "execution_count": 33,
      "outputs": [
        {
          "output_type": "stream",
          "name": "stdout",
          "text": [
            "[[1.62 2.  ]\n",
            " [1.64 0.  ]\n",
            " [1.5  1.  ]\n",
            " ...\n",
            " [1.48 3.  ]\n",
            " [1.59 0.  ]\n",
            " [1.97 2.  ]]\n"
          ]
        }
      ]
    },
    {
      "cell_type": "code",
      "metadata": {
        "colab": {
          "base_uri": "https://localhost:8080/"
        },
        "id": "kKnN0biIAoaH",
        "outputId": "7b3c8bb5-d777-4db6-8c08-58e18d50624e"
      },
      "source": [
        "#Evaluating Model\n",
        "from sklearn import metrics\n",
        "print('Mean Absolute Error:', metrics.mean_absolute_error(y_test, preds))\n",
        "print('Mean Squared Error:', metrics.mean_squared_error(y_test, preds))\n",
        "print('Root Mean Squared Error:', np.sqrt(metrics.mean_squared_error(y_test, preds)))\n",
        "print('R-Squared:', metrics.r2_score(y_test, preds))"
      ],
      "execution_count": 34,
      "outputs": [
        {
          "output_type": "stream",
          "name": "stdout",
          "text": [
            "Mean Absolute Error: 1.2404180568949534\n",
            "Mean Squared Error: 2.8951640865346993\n",
            "Root Mean Squared Error: 1.7015181710856628\n",
            "R-Squared: 0.018810203934076286\n"
          ]
        }
      ]
    },
    {
      "cell_type": "markdown",
      "metadata": {
        "id": "UoPEiND2CCYk"
      },
      "source": [
        "Adjust and try again"
      ]
    },
    {
      "cell_type": "code",
      "metadata": {
        "colab": {
          "base_uri": "https://localhost:8080/"
        },
        "id": "Te_c9xWiC-1D",
        "outputId": "47f3f5ce-f753-4e68-ba92-62661f6e699c"
      },
      "source": [
        "#creating the model\n",
        "from sklearn.linear_model import LinearRegression\n",
        "from sklearn.preprocessing import PolynomialFeatures\n",
        "poly_reg = PolynomialFeatures(degree = 3)\n",
        "X_poly = poly_reg.fit_transform(X_train)\n",
        "lin_reg_2 = LinearRegression()\n",
        "lin_reg_2.fit(X_poly, y_train)"
      ],
      "execution_count": 35,
      "outputs": [
        {
          "output_type": "execute_result",
          "data": {
            "text/plain": [
              "LinearRegression()"
            ]
          },
          "metadata": {},
          "execution_count": 35
        }
      ]
    },
    {
      "cell_type": "code",
      "metadata": {
        "colab": {
          "base_uri": "https://localhost:8080/"
        },
        "id": "CZILRKSdEMC2",
        "outputId": "06dde675-93eb-4d08-cf8b-94dae303bac8"
      },
      "source": [
        "#Using X_test to predict\n",
        "preds = lin_reg_2.predict(poly_reg.fit_transform(X_test))\n",
        "\n",
        "#printing out predicted home scores against test\n",
        "np.set_printoptions(precision=2)\n",
        "print(np.concatenate((preds.reshape(len(preds),1), y_test.reshape(len(y_test),1)),1))\n",
        "\n",
        "#Evaluating Model\n",
        "from sklearn import metrics\n",
        "print('Mean Absolute Error:', metrics.mean_absolute_error(y_test, preds))\n",
        "print('Mean Squared Error:', metrics.mean_squared_error(y_test, preds))\n",
        "print('Root Mean Squared Error:', np.sqrt(metrics.mean_squared_error(y_test, preds)))\n",
        "print('R-Squared:', metrics.r2_score(y_test, preds))"
      ],
      "execution_count": 36,
      "outputs": [
        {
          "output_type": "stream",
          "name": "stdout",
          "text": [
            "[[1.62 2.  ]\n",
            " [1.64 0.  ]\n",
            " [1.5  1.  ]\n",
            " ...\n",
            " [1.48 3.  ]\n",
            " [1.59 0.  ]\n",
            " [1.97 2.  ]]\n",
            "Mean Absolute Error: 1.2404180568949534\n",
            "Mean Squared Error: 2.8951640865346993\n",
            "Root Mean Squared Error: 1.7015181710856628\n",
            "R-Squared: 0.018810203934076286\n"
          ]
        }
      ]
    },
    {
      "cell_type": "code",
      "metadata": {
        "colab": {
          "base_uri": "https://localhost:8080/",
          "height": 369
        },
        "id": "ba9LBAGGA_rb",
        "outputId": "2b3a23b4-1218-4e29-c8e2-5fe9e2e2b866"
      },
      "source": [
        "#Residual Plot distribution\n",
        "sns.displot((y_test-preds), bins = 30, kde = True)\n",
        "plt.show()"
      ],
      "execution_count": 37,
      "outputs": [
        {
          "output_type": "display_data",
          "data": {
            "image/png": "[encoded data removed]",
            "text/plain": [
              "<Figure size 402.25x360 with 1 Axes>"
            ]
          },
          "metadata": {
            "needs_background": "light"
          }
        }
      ]
    },
    {
      "cell_type": "markdown",
      "metadata": {
        "id": "w4tDdjvAFntK"
      },
      "source": [
        "**Logistical Regression**"
      ]
    },
    {
      "cell_type": "markdown",
      "metadata": {
        "id": "W12YXC4EH6ID"
      },
      "source": [
        "Feature engeneering"
      ]
    },
    {
      "cell_type": "code",
      "metadata": {
        "colab": {
          "base_uri": "https://localhost:8080/",
          "height": 206
        },
        "id": "Igrd1IRCFuzJ",
        "outputId": "aaaf9728-1a81-445c-eb8f-5204a2098db3"
      },
      "source": [
        "#creating a column(status) that shows whether the match ended in a win, loss or draw\n",
        "\n",
        "status = finaldf1\n",
        "\n",
        "status['status'] = status['home_score'] - status['away_score']\n",
        "def home_team(home_score):\n",
        "    if home_score > 0:\n",
        "        return 'Win'\n",
        "    elif home_score < 0:\n",
        "        return 'Loss'\n",
        "    else:\n",
        "        return 'Draw'\n",
        "      \n",
        "status['status'] = status.status.apply(lambda h: home_team(h))\n",
        "status.head()"
      ],
      "execution_count": 38,
      "outputs": [
        {
          "output_type": "execute_result",
          "data": {
            "text/html": [
              "<div>\n",
              "<style scoped>\n",
              "    .dataframe tbody tr th:only-of-type {\n",
              "        vertical-align: middle;\n",
              "    }\n",
              "\n",
              "    .dataframe tbody tr th {\n",
              "        vertical-align: top;\n",
              "    }\n",
              "\n",
              "    .dataframe thead th {\n",
              "        text-align: right;\n",
              "    }\n",
              "</style>\n",
              "<table border=\"1\" class=\"dataframe\">\n",
              "  <thead>\n",
              "    <tr style=\"text-align: right;\">\n",
              "      <th></th>\n",
              "      <th>home_team</th>\n",
              "      <th>away_team</th>\n",
              "      <th>home_score</th>\n",
              "      <th>away_score</th>\n",
              "      <th>tournament</th>\n",
              "      <th>neutral</th>\n",
              "      <th>home_team_rank</th>\n",
              "      <th>away_team_rank</th>\n",
              "      <th>status</th>\n",
              "    </tr>\n",
              "  </thead>\n",
              "  <tbody>\n",
              "    <tr>\n",
              "      <th>0</th>\n",
              "      <td>Scotland</td>\n",
              "      <td>England</td>\n",
              "      <td>0</td>\n",
              "      <td>0</td>\n",
              "      <td>Friendly</td>\n",
              "      <td>False</td>\n",
              "      <td>30.0</td>\n",
              "      <td>11.0</td>\n",
              "      <td>Draw</td>\n",
              "    </tr>\n",
              "    <tr>\n",
              "      <th>1</th>\n",
              "      <td>Scotland</td>\n",
              "      <td>England</td>\n",
              "      <td>0</td>\n",
              "      <td>0</td>\n",
              "      <td>Friendly</td>\n",
              "      <td>False</td>\n",
              "      <td>28.0</td>\n",
              "      <td>5.0</td>\n",
              "      <td>Draw</td>\n",
              "    </tr>\n",
              "    <tr>\n",
              "      <th>2</th>\n",
              "      <td>Scotland</td>\n",
              "      <td>England</td>\n",
              "      <td>0</td>\n",
              "      <td>0</td>\n",
              "      <td>Friendly</td>\n",
              "      <td>False</td>\n",
              "      <td>29.0</td>\n",
              "      <td>10.0</td>\n",
              "      <td>Draw</td>\n",
              "    </tr>\n",
              "    <tr>\n",
              "      <th>3</th>\n",
              "      <td>Scotland</td>\n",
              "      <td>England</td>\n",
              "      <td>0</td>\n",
              "      <td>0</td>\n",
              "      <td>Friendly</td>\n",
              "      <td>False</td>\n",
              "      <td>25.0</td>\n",
              "      <td>8.0</td>\n",
              "      <td>Draw</td>\n",
              "    </tr>\n",
              "    <tr>\n",
              "      <th>4</th>\n",
              "      <td>Scotland</td>\n",
              "      <td>England</td>\n",
              "      <td>0</td>\n",
              "      <td>0</td>\n",
              "      <td>Friendly</td>\n",
              "      <td>False</td>\n",
              "      <td>24.0</td>\n",
              "      <td>11.0</td>\n",
              "      <td>Draw</td>\n",
              "    </tr>\n",
              "  </tbody>\n",
              "</table>\n",
              "</div>"
            ],
            "text/plain": [
              "  home_team away_team  home_score  ...  home_team_rank away_team_rank  status\n",
              "0  Scotland   England           0  ...            30.0           11.0    Draw\n",
              "1  Scotland   England           0  ...            28.0            5.0    Draw\n",
              "2  Scotland   England           0  ...            29.0           10.0    Draw\n",
              "3  Scotland   England           0  ...            25.0            8.0    Draw\n",
              "4  Scotland   England           0  ...            24.0           11.0    Draw\n",
              "\n",
              "[5 rows x 9 columns]"
            ]
          },
          "metadata": {},
          "execution_count": 38
        }
      ]
    },
    {
      "cell_type": "code",
      "metadata": {
        "colab": {
          "base_uri": "https://localhost:8080/",
          "height": 206
        },
        "id": "lwupAdQaH9_X",
        "outputId": "592e8992-7f5d-4999-b163-d4c8d3a8881b"
      },
      "source": [
        "#encode status, neutral, tournament\n",
        "#label encoding\n",
        "from sklearn.preprocessing import LabelEncoder\n",
        "# instantiate labelencoder object\n",
        "le = LabelEncoder()\n",
        "\n",
        "# apply le on categorical feature columns\n",
        "status['status'] = le.fit_transform(status['status'])\n",
        "status['tournament'] = le.fit_transform(status['tournament'])\n",
        "status['neutral'] = le.fit_transform(status['neutral'])\n",
        "\n",
        "status.head()"
      ],
      "execution_count": 39,
      "outputs": [
        {
          "output_type": "execute_result",
          "data": {
            "text/html": [
              "<div>\n",
              "<style scoped>\n",
              "    .dataframe tbody tr th:only-of-type {\n",
              "        vertical-align: middle;\n",
              "    }\n",
              "\n",
              "    .dataframe tbody tr th {\n",
              "        vertical-align: top;\n",
              "    }\n",
              "\n",
              "    .dataframe thead th {\n",
              "        text-align: right;\n",
              "    }\n",
              "</style>\n",
              "<table border=\"1\" class=\"dataframe\">\n",
              "  <thead>\n",
              "    <tr style=\"text-align: right;\">\n",
              "      <th></th>\n",
              "      <th>home_team</th>\n",
              "      <th>away_team</th>\n",
              "      <th>home_score</th>\n",
              "      <th>away_score</th>\n",
              "      <th>tournament</th>\n",
              "      <th>neutral</th>\n",
              "      <th>home_team_rank</th>\n",
              "      <th>away_team_rank</th>\n",
              "      <th>status</th>\n",
              "    </tr>\n",
              "  </thead>\n",
              "  <tbody>\n",
              "    <tr>\n",
              "      <th>0</th>\n",
              "      <td>Scotland</td>\n",
              "      <td>England</td>\n",
              "      <td>0</td>\n",
              "      <td>0</td>\n",
              "      <td>0</td>\n",
              "      <td>0</td>\n",
              "      <td>30.0</td>\n",
              "      <td>11.0</td>\n",
              "      <td>0</td>\n",
              "    </tr>\n",
              "    <tr>\n",
              "      <th>1</th>\n",
              "      <td>Scotland</td>\n",
              "      <td>England</td>\n",
              "      <td>0</td>\n",
              "      <td>0</td>\n",
              "      <td>0</td>\n",
              "      <td>0</td>\n",
              "      <td>28.0</td>\n",
              "      <td>5.0</td>\n",
              "      <td>0</td>\n",
              "    </tr>\n",
              "    <tr>\n",
              "      <th>2</th>\n",
              "      <td>Scotland</td>\n",
              "      <td>England</td>\n",
              "      <td>0</td>\n",
              "      <td>0</td>\n",
              "      <td>0</td>\n",
              "      <td>0</td>\n",
              "      <td>29.0</td>\n",
              "      <td>10.0</td>\n",
              "      <td>0</td>\n",
              "    </tr>\n",
              "    <tr>\n",
              "      <th>3</th>\n",
              "      <td>Scotland</td>\n",
              "      <td>England</td>\n",
              "      <td>0</td>\n",
              "      <td>0</td>\n",
              "      <td>0</td>\n",
              "      <td>0</td>\n",
              "      <td>25.0</td>\n",
              "      <td>8.0</td>\n",
              "      <td>0</td>\n",
              "    </tr>\n",
              "    <tr>\n",
              "      <th>4</th>\n",
              "      <td>Scotland</td>\n",
              "      <td>England</td>\n",
              "      <td>0</td>\n",
              "      <td>0</td>\n",
              "      <td>0</td>\n",
              "      <td>0</td>\n",
              "      <td>24.0</td>\n",
              "      <td>11.0</td>\n",
              "      <td>0</td>\n",
              "    </tr>\n",
              "  </tbody>\n",
              "</table>\n",
              "</div>"
            ],
            "text/plain": [
              "  home_team away_team  home_score  ...  home_team_rank  away_team_rank  status\n",
              "0  Scotland   England           0  ...            30.0            11.0       0\n",
              "1  Scotland   England           0  ...            28.0             5.0       0\n",
              "2  Scotland   England           0  ...            29.0            10.0       0\n",
              "3  Scotland   England           0  ...            25.0             8.0       0\n",
              "4  Scotland   England           0  ...            24.0            11.0       0\n",
              "\n",
              "[5 rows x 9 columns]"
            ]
          },
          "metadata": {},
          "execution_count": 39
        }
      ]
    },
    {
      "cell_type": "code",
      "metadata": {
        "colab": {
          "base_uri": "https://localhost:8080/",
          "height": 206
        },
        "id": "uWyPmNnLojVP",
        "outputId": "b5873ab6-ce09-4660-c31e-c9e0b19eaea0"
      },
      "source": [
        "#Drop all the other not needed columns\n",
        "\n",
        "status.drop(['home_team', 'away_team','home_score','away_score'],axis=1,inplace=True)\n",
        "status.head()"
      ],
      "execution_count": 40,
      "outputs": [
        {
          "output_type": "execute_result",
          "data": {
            "text/html": [
              "<div>\n",
              "<style scoped>\n",
              "    .dataframe tbody tr th:only-of-type {\n",
              "        vertical-align: middle;\n",
              "    }\n",
              "\n",
              "    .dataframe tbody tr th {\n",
              "        vertical-align: top;\n",
              "    }\n",
              "\n",
              "    .dataframe thead th {\n",
              "        text-align: right;\n",
              "    }\n",
              "</style>\n",
              "<table border=\"1\" class=\"dataframe\">\n",
              "  <thead>\n",
              "    <tr style=\"text-align: right;\">\n",
              "      <th></th>\n",
              "      <th>tournament</th>\n",
              "      <th>neutral</th>\n",
              "      <th>home_team_rank</th>\n",
              "      <th>away_team_rank</th>\n",
              "      <th>status</th>\n",
              "    </tr>\n",
              "  </thead>\n",
              "  <tbody>\n",
              "    <tr>\n",
              "      <th>0</th>\n",
              "      <td>0</td>\n",
              "      <td>0</td>\n",
              "      <td>30.0</td>\n",
              "      <td>11.0</td>\n",
              "      <td>0</td>\n",
              "    </tr>\n",
              "    <tr>\n",
              "      <th>1</th>\n",
              "      <td>0</td>\n",
              "      <td>0</td>\n",
              "      <td>28.0</td>\n",
              "      <td>5.0</td>\n",
              "      <td>0</td>\n",
              "    </tr>\n",
              "    <tr>\n",
              "      <th>2</th>\n",
              "      <td>0</td>\n",
              "      <td>0</td>\n",
              "      <td>29.0</td>\n",
              "      <td>10.0</td>\n",
              "      <td>0</td>\n",
              "    </tr>\n",
              "    <tr>\n",
              "      <th>3</th>\n",
              "      <td>0</td>\n",
              "      <td>0</td>\n",
              "      <td>25.0</td>\n",
              "      <td>8.0</td>\n",
              "      <td>0</td>\n",
              "    </tr>\n",
              "    <tr>\n",
              "      <th>4</th>\n",
              "      <td>0</td>\n",
              "      <td>0</td>\n",
              "      <td>24.0</td>\n",
              "      <td>11.0</td>\n",
              "      <td>0</td>\n",
              "    </tr>\n",
              "  </tbody>\n",
              "</table>\n",
              "</div>"
            ],
            "text/plain": [
              "   tournament  neutral  home_team_rank  away_team_rank  status\n",
              "0           0        0            30.0            11.0       0\n",
              "1           0        0            28.0             5.0       0\n",
              "2           0        0            29.0            10.0       0\n",
              "3           0        0            25.0             8.0       0\n",
              "4           0        0            24.0            11.0       0"
            ]
          },
          "metadata": {},
          "execution_count": 40
        }
      ]
    },
    {
      "cell_type": "code",
      "metadata": {
        "colab": {
          "base_uri": "https://localhost:8080/",
          "height": 364
        },
        "id": "QJvuOkGpp9ZY",
        "outputId": "3ccbeb97-e5fd-49f4-c392-6b880f2a030e"
      },
      "source": [
        "# Checking for independence between features¶\n",
        "# \n",
        "sns.heatmap(status.corr())  "
      ],
      "execution_count": 42,
      "outputs": [
        {
          "output_type": "execute_result",
          "data": {
            "text/plain": [
              "<matplotlib.axes._subplots.AxesSubplot at 0x7f506edf24d0>"
            ]
          },
          "metadata": {},
          "execution_count": 42
        },
        {
          "output_type": "display_data",
          "data": {
            "image/png": "[encoded data removed]",
            "text/plain": [
              "<Figure size 432x288 with 2 Axes>"
            ]
          },
          "metadata": {
            "needs_background": "light"
          }
        }
      ]
    },
    {
      "cell_type": "code",
      "metadata": {
        "id": "flZhhFn2qgc0"
      },
      "source": [
        "# Splitting our dataset\n",
        "#\n",
        "X = status.drop(\"status\",axis=1)\n",
        "y = status[\"status\"]\n",
        "\n",
        "from sklearn.model_selection import train_test_split\n",
        "X_train, X_test, y_train, y_test = train_test_split(X, y, test_size = .3, random_state=25)"
      ],
      "execution_count": 43,
      "outputs": []
    },
    {
      "cell_type": "code",
      "metadata": {
        "colab": {
          "base_uri": "https://localhost:8080/"
        },
        "id": "zLnodHWgqtCB",
        "outputId": "1cfee7b2-0689-4b26-db77-923695d6e769"
      },
      "source": [
        "# Fitting our model\n",
        "# \n",
        "from sklearn.linear_model import LogisticRegression\n",
        "\n",
        "LogReg = LogisticRegression()\n",
        "LogReg.fit(X_train, y_train)"
      ],
      "execution_count": 44,
      "outputs": [
        {
          "output_type": "execute_result",
          "data": {
            "text/plain": [
              "LogisticRegression()"
            ]
          },
          "metadata": {},
          "execution_count": 44
        }
      ]
    },
    {
      "cell_type": "code",
      "metadata": {
        "id": "_CQVa5_trpgT"
      },
      "source": [
        "# Using our model to make a prediction\n",
        "#\n",
        "y_pred = LogReg.predict(X_test)"
      ],
      "execution_count": 45,
      "outputs": []
    },
    {
      "cell_type": "code",
      "metadata": {
        "colab": {
          "base_uri": "https://localhost:8080/"
        },
        "id": "C5kdioRIrxvJ",
        "outputId": "1c2d34d3-ea69-4ea5-aa2c-befc3781c094"
      },
      "source": [
        "# Evaluating the model\n",
        "#\n",
        "from sklearn.metrics import confusion_matrix\n",
        "confusion_matrix = confusion_matrix(y_test, y_pred)\n",
        "confusion_matrix\n",
        "\n"
      ],
      "execution_count": 46,
      "outputs": [
        {
          "output_type": "execute_result",
          "data": {
            "text/plain": [
              "array([[      0,   88331,  627977],\n",
              "       [      0,  173537,  691336],\n",
              "       [      0,  149168, 1328149]])"
            ]
          },
          "metadata": {},
          "execution_count": 46
        }
      ]
    },
    {
      "cell_type": "markdown",
      "metadata": {
        "id": "mVxhaRR7uGq_"
      },
      "source": [
        "# The results from the confusion matrix tell us that the first column are the wrongly predicted win, loss and draw, the second are actual and the third are the actual predictions   \n",
        "![cm.jpg](data:image/jpeg;base64,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)"
      ]
    }
  ]
}